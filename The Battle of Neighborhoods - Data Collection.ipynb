{
    "nbformat_minor": 1, 
    "cells": [
        {
            "source": "<h1>The Battle of Neighborhoods (Week 1)</h1>", 
            "cell_type": "markdown", 
            "metadata": {
                "collapsed": true
            }
        }, 
        {
            "source": "<h2>2. Data Collection</h2>", 
            "cell_type": "markdown", 
            "metadata": {}
        }, 
        {
            "source": "<p>Toronto is a big city with a big number of neighborhoods.To find the best neighborhood in Toronto based on the nearby services, different types of data are required. We need to find the name of the neighborhoods, their postal codes and geographical locations. We also need the services around Toronto and their geological locations so that we can detemine the best neiborhoods for different services.</p>\n\n<p>Toronto neighborhoods are scraped from Wikipedia table. From this data, we'll find the names of the Neighborhoods, Postal codes and boroughs. The link of the wikipedia is given below:</p>\n<p><a href=\"https://en.wikipedia.org/wiki/List_of_postal_codes_of_Canada:_M\">Toronto Neiberhoods from Wikipedia</a></p>\n\n<p>We also need the geological information like Latituda and Longitude for the postal areas to detemine and show the places on the Map. Below is the link for the geographical data:</p>\n<p><a href=\"https://cocl.us/Geospatial_data\">Geographical Information for Toronto</a></p>\n\n<p>We use Foursquare API to get the venues inside Toronto and their geographical information. Please find the below link for foursquare.com: </p>\n<p><a href=\"https://developer.foursquare.com/</p>\n\n<p>We'll cleanup the data as per our requirements and use them to find the best neighborhoods based on nearby services.</p>", 
            "cell_type": "markdown", 
            "metadata": {}
        }, 
        {
            "source": "", 
            "cell_type": "code", 
            "metadata": {}, 
            "outputs": [], 
            "execution_count": null
        }
    ], 
    "metadata": {
        "kernelspec": {
            "display_name": "Python 3.5", 
            "name": "python3", 
            "language": "python"
        }, 
        "language_info": {
            "mimetype": "text/x-python", 
            "nbconvert_exporter": "python", 
            "version": "3.5.5", 
            "name": "python", 
            "file_extension": ".py", 
            "pygments_lexer": "ipython3", 
            "codemirror_mode": {
                "version": 3, 
                "name": "ipython"
            }
        }
    }, 
    "nbformat": 4
}