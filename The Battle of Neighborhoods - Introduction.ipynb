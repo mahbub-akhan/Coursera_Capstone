{
    "nbformat_minor": 1, 
    "cells": [
        {
            "source": "<h1>The Battle of Neighborhoods (Week 1)</h1>", 
            "cell_type": "markdown", 
            "metadata": {
                "collapsed": true
            }
        }, 
        {
            "source": "<h2>1. Introduction:</h2>", 
            "cell_type": "markdown", 
            "metadata": {}
        }, 
        {
            "source": "<h3>Problem Description</h3>", 
            "cell_type": "markdown", 
            "metadata": {}
        }, 
        {
            "source": "I am living in Toronto. It is a multicultural place where everyday new immigrants are coming. Last few years the population of Toronto is increasing rapidly. When a new immigrant landed in Toronto, the first problem they face is to find a convinient place to live. Most of them have no personal vehicle so they want to live in a neighborhood where they can find all the services in a short distance.", 
            "cell_type": "markdown", 
            "metadata": {}
        }, 
        {
            "source": "<h4>Customer</h4>", 
            "cell_type": "markdown", 
            "metadata": {}
        }, 
        {
            "source": "My customer is the settlement anencies who work on settlement issues for newcomers. They want to find the best neiborhoods in Toronto based on available services in a short distance. Their customers are mostly interested on those neighborhoods.", 
            "cell_type": "markdown", 
            "metadata": {}
        }, 
        {
            "source": "<h4>Business Problem</h4>", 
            "cell_type": "markdown", 
            "metadata": {}
        }, 
        {
            "source": "<strong>\"Find best neighborhoods depending on the nearby available services\"</strong>", 
            "cell_type": "markdown", 
            "metadata": {}
        }, 
        {
            "source": "<h3>Background</h3>", 
            "cell_type": "markdown", 
            "metadata": {}
        }, 
        {
            "source": "Toronto, the capital of the province of Ontario, is a major Canadian city. Nearly one million immigrants will be coming to Canada over the next three years, and tens of thousands of them will wind up in Toronto. Settlement services are one of the most important service provided by many government and non-profit organization. Everyday hundreds of the newcomers are coming to get information about the neiborhoods where they can start their Canada life. Most of them want a place where the services are available within a short distance. The organizations are now trying to find the best neighborhoods based on the nearby services", 
            "cell_type": "markdown", 
            "metadata": {}
        }, 
        {
            "source": "", 
            "cell_type": "code", 
            "metadata": {}, 
            "outputs": [], 
            "execution_count": null
        }
    ], 
    "metadata": {
        "kernelspec": {
            "display_name": "Python 3.5", 
            "name": "python3", 
            "language": "python"
        }, 
        "language_info": {
            "mimetype": "text/x-python", 
            "nbconvert_exporter": "python", 
            "version": "3.5.5", 
            "name": "python", 
            "file_extension": ".py", 
            "pygments_lexer": "ipython3", 
            "codemirror_mode": {
                "version": 3, 
                "name": "ipython"
            }
        }
    }, 
    "nbformat": 4
}